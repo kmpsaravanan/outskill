{
  "nbformat": 4,
  "nbformat_minor": 0,
  "metadata": {
    "colab": {
      "provenance": [],
      "include_colab_link": true
    },
    "kernelspec": {
      "name": "python3",
      "display_name": "Python 3"
    },
    "language_info": {
      "name": "python"
    }
  },
  "cells": [
    {
      "cell_type": "markdown",
      "metadata": {
        "id": "view-in-github",
        "colab_type": "text"
      },
      "source": [
        "<a href=\"https://colab.research.google.com/github/kmpsaravanan/outskill/blob/main/Gradio.ipynb\" target=\"_parent\"><img src=\"https://colab.research.google.com/assets/colab-badge.svg\" alt=\"Open In Colab\"/></a>"
      ]
    },
    {
      "cell_type": "markdown",
      "source": [
        "GRADIO SYNTAX"
      ],
      "metadata": {
        "id": "qBdN3hkkfH6R"
      }
    },
    {
      "cell_type": "code",
      "execution_count": null,
      "metadata": {
        "id": "wR4y7UudewDw"
      },
      "outputs": [],
      "source": [
        "import gradio as gr\n",
        "\n",
        "def greet(name):\n",
        "    return \"Hello, \" + name + \"!\"\n",
        "\n",
        "demo = gr.Interface(fn=greet, inputs=\"text\", outputs=\"text\")\n",
        "\n",
        "# To create a shareable link (valid for 72 hours)\n",
        "demo.launch(share=True)"
      ]
    },
    {
      "cell_type": "markdown",
      "source": [
        "HUGGING FACE TOKEN LOGISTICS"
      ],
      "metadata": {
        "id": "53iZXyE0fFTI"
      }
    },
    {
      "cell_type": "code",
      "source": [
        "!pip install huggingface_hub\n",
        "\n",
        "from huggingface_hub import whoami\n",
        "from google.colab import userdata\n",
        "\n",
        "# Get your Hugging Face token from Colab Secrets\n",
        "hf_token = userdata.get('HF_TOKEN')\n",
        "\n",
        "# Verify the token by checking your identity\n",
        "try:\n",
        "    user_info = whoami(token=hf_token)\n",
        "    print(f\"Logged in as: {user_info['name']}\")\n",
        "except Exception as e:\n",
        "    print(f\"Could not log in: {e}\")\n",
        "    print(\"Please make sure you have added your Hugging Face token to Colab Secrets with the name 'HF_TOKEN'\")"
      ],
      "metadata": {
        "id": "BvuK-FRUe4sz"
      },
      "execution_count": null,
      "outputs": []
    },
    {
      "cell_type": "markdown",
      "source": [
        "IF YOU WISH TO LOAD SOME DATASET TO TEST ANYTHING"
      ],
      "metadata": {
        "id": "SJ7RyQEXfKqf"
      }
    },
    {
      "cell_type": "code",
      "source": [
        "from datasets import load_dataset\n",
        "\n",
        "# Load a dataset (e.g., the SQuAD dataset for question answering)\n",
        "dataset = load_dataset(\"squad\")\n",
        "\n",
        "# Print information about the dataset\n",
        "print(dataset)\n",
        "\n",
        "# Access an example from the training set\n",
        "print(\"\\nExample from the training set:\")\n",
        "print(dataset[\"train\"][0])"
      ],
      "metadata": {
        "id": "kKofrkg0fCEM"
      },
      "execution_count": null,
      "outputs": []
    },
    {
      "cell_type": "markdown",
      "source": [
        "SAMPLE SUMMARISATION CODE"
      ],
      "metadata": {
        "id": "ixTksrfyfNwe"
      }
    },
    {
      "cell_type": "code",
      "source": [
        "from transformers import pipeline\n",
        "\n",
        "# Load the summarization pipeline\n",
        "summarizer = pipeline(\"summarization\")\n",
        "\n",
        "# Text to summarize\n",
        "text = \"\"\"\n",
        "Hugging Face is a company and open-source platform that provides tools and models for natural language processing (NLP). It has become a central hub for the ML community, offering a wide range of pre-trained models that can be easily used or fine-tuned for specific applications. Key aspects of Hugging Face include the Transformers library, Model Hub, Datasets library, and Tokenizers library. Hugging Face democratizes access to powerful ML models, making it easier for developers and researchers to build and deploy applications.\n",
        "\"\"\"\n",
        "\n",
        "# Summarize the text\n",
        "summary = summarizer(text, max_length=50, min_length=25, do_sample=False)\n",
        "\n",
        "print(\"Original Text:\")\n",
        "print(text)\n",
        "print(\"\\nSummary:\")\n",
        "print(summary[0]['summary_text'])"
      ],
      "metadata": {
        "id": "x6UgM-Rse5dw"
      },
      "execution_count": null,
      "outputs": []
    },
    {
      "cell_type": "markdown",
      "source": [
        "ASSIGNMENT GOES BELOW -"
      ],
      "metadata": {
        "id": "2uRw9YNZfP13"
      }
    },
    {
      "cell_type": "code",
      "source": [
        "# Code here"
      ],
      "metadata": {
        "id": "bCAb092HfRrj"
      },
      "execution_count": null,
      "outputs": []
    }
  ]
}